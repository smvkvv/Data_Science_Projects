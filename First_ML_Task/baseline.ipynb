{
  "nbformat": 4,
  "nbformat_minor": 0,
  "metadata": {
    "kernelspec": {
      "display_name": "Python 3",
      "language": "python",
      "name": "python3"
    },
    "language_info": {
      "codemirror_mode": {
        "name": "ipython",
        "version": 3
      },
      "file_extension": ".py",
      "mimetype": "text/x-python",
      "name": "python",
      "nbconvert_exporter": "python",
      "pygments_lexer": "ipython3",
      "version": "3.7.4"
    },
    "colab": {
      "name": "baseline.ipynb",
      "provenance": [],
      "collapsed_sections": [
        "IrDNNkNTEEYz",
        "KsE856suaHtW",
        "7IjPWoExawYD",
        "DviiJd8REEZK",
        "N8zF-EBSRcvg",
        "dDMXbvNZEEZV"
      ]
    }
  },
  "cells": [
    {
      "cell_type": "markdown",
      "metadata": {
        "id": "IrDNNkNTEEYz"
      },
      "source": [
        "# Первая часть. Исследование"
      ]
    },
    {
      "cell_type": "code",
      "metadata": {
        "id": "lzLqEeZKEEYz"
      },
      "source": [
        "import pandas as pd\n",
        "import numpy as np\n",
        "from matplotlib import pyplot as plt "
      ],
      "execution_count": 315,
      "outputs": []
    },
    {
      "cell_type": "code",
      "metadata": {
        "id": "pw-Brue9EEY3"
      },
      "source": [
        "data = pd.read_csv('./train.csv') # заводим dataframe для наших тренировочных данных"
      ],
      "execution_count": 316,
      "outputs": []
    },
    {
      "cell_type": "code",
      "metadata": {
        "id": "KgnkkF5bEEY9"
      },
      "source": [
        "# Числовые признаки\n",
        "num_cols = [\n",
        "    'ClientPeriod',\n",
        "    'MonthlySpending',\n",
        "    'TotalSpent'\n",
        "]\n",
        "\n",
        "# Категориальные признаки\n",
        "cat_cols = [\n",
        "    'Sex',\n",
        "    'IsSeniorCitizen',\n",
        "    'HasPartner',\n",
        "    'HasChild',\n",
        "    'HasPhoneService',\n",
        "    'HasMultiplePhoneNumbers',\n",
        "    'HasInternetService',\n",
        "    'HasOnlineSecurityService',\n",
        "    'HasOnlineBackup',\n",
        "    'HasDeviceProtection',\n",
        "    'HasTechSupportAccess',\n",
        "    'HasOnlineTV',\n",
        "    'HasMovieSubscription',\n",
        "    'HasContractPhone',\n",
        "    'IsBillingPaperless',\n",
        "    'PaymentMethod'\n",
        "]\n",
        "\n",
        "target_col = 'Churn' "
      ],
      "execution_count": 317,
      "outputs": []
    },
    {
      "cell_type": "code",
      "metadata": {
        "colab": {
          "base_uri": "https://localhost:8080/",
          "height": 744
        },
        "id": "Esz_iQYU3T-t",
        "outputId": "3b9e3962-5d2e-45a0-eeaa-0c8a89cd649e"
      },
      "source": [
        "data.info() # анализируем количество строк у каждого признака и его Dtype\n",
        "data.head() # смотрим на случайные строчки в датасете (в нашем случае - это первые 5, можно было посмотреть и последние 5 с помощью data.tail())"
      ],
      "execution_count": 318,
      "outputs": [
        {
          "output_type": "stream",
          "name": "stdout",
          "text": [
            "<class 'pandas.core.frame.DataFrame'>\n",
            "RangeIndex: 5282 entries, 0 to 5281\n",
            "Data columns (total 20 columns):\n",
            " #   Column                    Non-Null Count  Dtype  \n",
            "---  ------                    --------------  -----  \n",
            " 0   ClientPeriod              5282 non-null   int64  \n",
            " 1   MonthlySpending           5282 non-null   float64\n",
            " 2   TotalSpent                5282 non-null   object \n",
            " 3   Sex                       5282 non-null   object \n",
            " 4   IsSeniorCitizen           5282 non-null   int64  \n",
            " 5   HasPartner                5282 non-null   object \n",
            " 6   HasChild                  5282 non-null   object \n",
            " 7   HasPhoneService           5282 non-null   object \n",
            " 8   HasMultiplePhoneNumbers   5282 non-null   object \n",
            " 9   HasInternetService        5282 non-null   object \n",
            " 10  HasOnlineSecurityService  5282 non-null   object \n",
            " 11  HasOnlineBackup           5282 non-null   object \n",
            " 12  HasDeviceProtection       5282 non-null   object \n",
            " 13  HasTechSupportAccess      5282 non-null   object \n",
            " 14  HasOnlineTV               5282 non-null   object \n",
            " 15  HasMovieSubscription      5282 non-null   object \n",
            " 16  HasContractPhone          5282 non-null   object \n",
            " 17  IsBillingPaperless        5282 non-null   object \n",
            " 18  PaymentMethod             5282 non-null   object \n",
            " 19  Churn                     5282 non-null   int64  \n",
            "dtypes: float64(1), int64(3), object(16)\n",
            "memory usage: 825.4+ KB\n"
          ]
        },
        {
          "output_type": "execute_result",
          "data": {
            "text/html": [
              "<div>\n",
              "<style scoped>\n",
              "    .dataframe tbody tr th:only-of-type {\n",
              "        vertical-align: middle;\n",
              "    }\n",
              "\n",
              "    .dataframe tbody tr th {\n",
              "        vertical-align: top;\n",
              "    }\n",
              "\n",
              "    .dataframe thead th {\n",
              "        text-align: right;\n",
              "    }\n",
              "</style>\n",
              "<table border=\"1\" class=\"dataframe\">\n",
              "  <thead>\n",
              "    <tr style=\"text-align: right;\">\n",
              "      <th></th>\n",
              "      <th>ClientPeriod</th>\n",
              "      <th>MonthlySpending</th>\n",
              "      <th>TotalSpent</th>\n",
              "      <th>Sex</th>\n",
              "      <th>IsSeniorCitizen</th>\n",
              "      <th>HasPartner</th>\n",
              "      <th>HasChild</th>\n",
              "      <th>HasPhoneService</th>\n",
              "      <th>HasMultiplePhoneNumbers</th>\n",
              "      <th>HasInternetService</th>\n",
              "      <th>HasOnlineSecurityService</th>\n",
              "      <th>HasOnlineBackup</th>\n",
              "      <th>HasDeviceProtection</th>\n",
              "      <th>HasTechSupportAccess</th>\n",
              "      <th>HasOnlineTV</th>\n",
              "      <th>HasMovieSubscription</th>\n",
              "      <th>HasContractPhone</th>\n",
              "      <th>IsBillingPaperless</th>\n",
              "      <th>PaymentMethod</th>\n",
              "      <th>Churn</th>\n",
              "    </tr>\n",
              "  </thead>\n",
              "  <tbody>\n",
              "    <tr>\n",
              "      <th>0</th>\n",
              "      <td>55</td>\n",
              "      <td>19.50</td>\n",
              "      <td>1026.35</td>\n",
              "      <td>Male</td>\n",
              "      <td>0</td>\n",
              "      <td>Yes</td>\n",
              "      <td>Yes</td>\n",
              "      <td>Yes</td>\n",
              "      <td>No</td>\n",
              "      <td>No</td>\n",
              "      <td>No internet service</td>\n",
              "      <td>No internet service</td>\n",
              "      <td>No internet service</td>\n",
              "      <td>No internet service</td>\n",
              "      <td>No internet service</td>\n",
              "      <td>No internet service</td>\n",
              "      <td>One year</td>\n",
              "      <td>No</td>\n",
              "      <td>Mailed check</td>\n",
              "      <td>0</td>\n",
              "    </tr>\n",
              "    <tr>\n",
              "      <th>1</th>\n",
              "      <td>72</td>\n",
              "      <td>25.85</td>\n",
              "      <td>1872.2</td>\n",
              "      <td>Male</td>\n",
              "      <td>0</td>\n",
              "      <td>Yes</td>\n",
              "      <td>No</td>\n",
              "      <td>Yes</td>\n",
              "      <td>Yes</td>\n",
              "      <td>No</td>\n",
              "      <td>No internet service</td>\n",
              "      <td>No internet service</td>\n",
              "      <td>No internet service</td>\n",
              "      <td>No internet service</td>\n",
              "      <td>No internet service</td>\n",
              "      <td>No internet service</td>\n",
              "      <td>Two year</td>\n",
              "      <td>No</td>\n",
              "      <td>Credit card (automatic)</td>\n",
              "      <td>0</td>\n",
              "    </tr>\n",
              "    <tr>\n",
              "      <th>2</th>\n",
              "      <td>1</td>\n",
              "      <td>75.90</td>\n",
              "      <td>75.9</td>\n",
              "      <td>Male</td>\n",
              "      <td>0</td>\n",
              "      <td>No</td>\n",
              "      <td>No</td>\n",
              "      <td>Yes</td>\n",
              "      <td>No</td>\n",
              "      <td>Fiber optic</td>\n",
              "      <td>No</td>\n",
              "      <td>No</td>\n",
              "      <td>No</td>\n",
              "      <td>Yes</td>\n",
              "      <td>No</td>\n",
              "      <td>No</td>\n",
              "      <td>Month-to-month</td>\n",
              "      <td>Yes</td>\n",
              "      <td>Electronic check</td>\n",
              "      <td>1</td>\n",
              "    </tr>\n",
              "    <tr>\n",
              "      <th>3</th>\n",
              "      <td>32</td>\n",
              "      <td>79.30</td>\n",
              "      <td>2570</td>\n",
              "      <td>Female</td>\n",
              "      <td>1</td>\n",
              "      <td>Yes</td>\n",
              "      <td>No</td>\n",
              "      <td>Yes</td>\n",
              "      <td>Yes</td>\n",
              "      <td>Fiber optic</td>\n",
              "      <td>No</td>\n",
              "      <td>No</td>\n",
              "      <td>Yes</td>\n",
              "      <td>No</td>\n",
              "      <td>No</td>\n",
              "      <td>No</td>\n",
              "      <td>Month-to-month</td>\n",
              "      <td>No</td>\n",
              "      <td>Mailed check</td>\n",
              "      <td>0</td>\n",
              "    </tr>\n",
              "    <tr>\n",
              "      <th>4</th>\n",
              "      <td>60</td>\n",
              "      <td>115.25</td>\n",
              "      <td>6758.45</td>\n",
              "      <td>Female</td>\n",
              "      <td>0</td>\n",
              "      <td>Yes</td>\n",
              "      <td>Yes</td>\n",
              "      <td>Yes</td>\n",
              "      <td>Yes</td>\n",
              "      <td>Fiber optic</td>\n",
              "      <td>Yes</td>\n",
              "      <td>Yes</td>\n",
              "      <td>Yes</td>\n",
              "      <td>Yes</td>\n",
              "      <td>Yes</td>\n",
              "      <td>Yes</td>\n",
              "      <td>Two year</td>\n",
              "      <td>No</td>\n",
              "      <td>Credit card (automatic)</td>\n",
              "      <td>0</td>\n",
              "    </tr>\n",
              "  </tbody>\n",
              "</table>\n",
              "</div>"
            ],
            "text/plain": [
              "   ClientPeriod  MonthlySpending  ...            PaymentMethod Churn\n",
              "0            55            19.50  ...             Mailed check     0\n",
              "1            72            25.85  ...  Credit card (automatic)     0\n",
              "2             1            75.90  ...         Electronic check     1\n",
              "3            32            79.30  ...             Mailed check     0\n",
              "4            60           115.25  ...  Credit card (automatic)     0\n",
              "\n",
              "[5 rows x 20 columns]"
            ]
          },
          "metadata": {},
          "execution_count": 318
        }
      ]
    },
    {
      "cell_type": "markdown",
      "metadata": {
        "id": "nWLaKMTD8-3E"
      },
      "source": [
        "\n",
        "**Nan'ов** в нашей таблице, к счастью не обнаружилось\n",
        "\n",
        "Однако видим, что у столбца **TotalSpent** (общая сумма, которую клиент заплатил) *Dtype* это *object*, что неверно, так как этот признак является численным\n",
        "\n",
        "Необходимо тип данных этого столбца преобразовать в float64, воспользуемся методом **pd.to_numeric()**"
      ]
    },
    {
      "cell_type": "code",
      "metadata": {
        "id": "tHC6gWabEEZA",
        "colab": {
          "base_uri": "https://localhost:8080/",
          "height": 430
        },
        "outputId": "77f94fc8-07ca-4493-e919-e81da2f640a0"
      },
      "source": [
        "data[\"TotalSpent\"] = pd.to_numeric(data[\"TotalSpent\"])"
      ],
      "execution_count": 319,
      "outputs": [
        {
          "output_type": "error",
          "ename": "ValueError",
          "evalue": "ignored",
          "traceback": [
            "\u001b[0;31m---------------------------------------------------------------------------\u001b[0m",
            "\u001b[0;31mValueError\u001b[0m                                Traceback (most recent call last)",
            "\u001b[0;32mpandas/_libs/lib.pyx\u001b[0m in \u001b[0;36mpandas._libs.lib.maybe_convert_numeric\u001b[0;34m()\u001b[0m\n",
            "\u001b[0;31mValueError\u001b[0m: Unable to parse string \" \"",
            "\nDuring handling of the above exception, another exception occurred:\n",
            "\u001b[0;31mValueError\u001b[0m                                Traceback (most recent call last)",
            "\u001b[0;32m<ipython-input-319-37f08fdf107f>\u001b[0m in \u001b[0;36m<module>\u001b[0;34m()\u001b[0m\n\u001b[0;32m----> 1\u001b[0;31m \u001b[0mdata\u001b[0m\u001b[0;34m[\u001b[0m\u001b[0;34m\"TotalSpent\"\u001b[0m\u001b[0;34m]\u001b[0m \u001b[0;34m=\u001b[0m \u001b[0mpd\u001b[0m\u001b[0;34m.\u001b[0m\u001b[0mto_numeric\u001b[0m\u001b[0;34m(\u001b[0m\u001b[0mdata\u001b[0m\u001b[0;34m[\u001b[0m\u001b[0;34m\"TotalSpent\"\u001b[0m\u001b[0;34m]\u001b[0m\u001b[0;34m)\u001b[0m\u001b[0;34m\u001b[0m\u001b[0;34m\u001b[0m\u001b[0m\n\u001b[0m",
            "\u001b[0;32m/usr/local/lib/python3.7/dist-packages/pandas/core/tools/numeric.py\u001b[0m in \u001b[0;36mto_numeric\u001b[0;34m(arg, errors, downcast)\u001b[0m\n\u001b[1;32m    151\u001b[0m         \u001b[0;32mtry\u001b[0m\u001b[0;34m:\u001b[0m\u001b[0;34m\u001b[0m\u001b[0;34m\u001b[0m\u001b[0m\n\u001b[1;32m    152\u001b[0m             values = lib.maybe_convert_numeric(\n\u001b[0;32m--> 153\u001b[0;31m                 \u001b[0mvalues\u001b[0m\u001b[0;34m,\u001b[0m \u001b[0mset\u001b[0m\u001b[0;34m(\u001b[0m\u001b[0;34m)\u001b[0m\u001b[0;34m,\u001b[0m \u001b[0mcoerce_numeric\u001b[0m\u001b[0;34m=\u001b[0m\u001b[0mcoerce_numeric\u001b[0m\u001b[0;34m\u001b[0m\u001b[0;34m\u001b[0m\u001b[0m\n\u001b[0m\u001b[1;32m    154\u001b[0m             )\n\u001b[1;32m    155\u001b[0m         \u001b[0;32mexcept\u001b[0m \u001b[0;34m(\u001b[0m\u001b[0mValueError\u001b[0m\u001b[0;34m,\u001b[0m \u001b[0mTypeError\u001b[0m\u001b[0;34m)\u001b[0m\u001b[0;34m:\u001b[0m\u001b[0;34m\u001b[0m\u001b[0;34m\u001b[0m\u001b[0m\n",
            "\u001b[0;32mpandas/_libs/lib.pyx\u001b[0m in \u001b[0;36mpandas._libs.lib.maybe_convert_numeric\u001b[0;34m()\u001b[0m\n",
            "\u001b[0;31mValueError\u001b[0m: Unable to parse string \" \" at position 1048"
          ]
        }
      ]
    },
    {
      "cell_type": "markdown",
      "metadata": {
        "id": "KCiZAsg89lby"
      },
      "source": [
        "Обнаруживается, что в столбце \"TotalSpent\" у нас есть ячейки с \"мусором\" в виде значений с пробелами. \n",
        "\n",
        "Определим, сколько таких ячеек в столбце. Если их окажется не много - то заменим эти значения на нули, так как в таком случае на наших данных это не отразится слишком критически"
      ]
    },
    {
      "cell_type": "code",
      "metadata": {
        "colab": {
          "base_uri": "https://localhost:8080/"
        },
        "id": "29gjVpXG056a",
        "outputId": "9391763d-0b18-456b-f82f-8d20ba5e18b1"
      },
      "source": [
        "data[\"TotalSpent\"].value_counts()"
      ],
      "execution_count": 320,
      "outputs": [
        {
          "output_type": "execute_result",
          "data": {
            "text/plain": [
              "20.2       9\n",
              "           9\n",
              "19.75      8\n",
              "19.65      6\n",
              "20.05      6\n",
              "          ..\n",
              "1032       1\n",
              "6215.35    1\n",
              "239        1\n",
              "6110.75    1\n",
              "113.55     1\n",
              "Name: TotalSpent, Length: 4978, dtype: int64"
            ]
          },
          "metadata": {},
          "execution_count": 320
        }
      ]
    },
    {
      "cell_type": "code",
      "metadata": {
        "id": "58eRB1Zv_55M",
        "colab": {
          "base_uri": "https://localhost:8080/",
          "height": 665
        },
        "outputId": "82db5c97-14a8-4878-c951-fe46eb643145"
      },
      "source": [
        "# Таких строк оказалось всего 9 штук, поэтому заменим пропуски на '0'\n",
        "\n",
        "data['TotalSpent'] = np.where(data['TotalSpent'] == ' ', '0', data['TotalSpent'])\n",
        "\n",
        "# Уже теперь преобразуем данные из столбца \"TotalSpent\" в тип float64\n",
        "\n",
        "data[\"TotalSpent\"] = pd.to_numeric(data[\"TotalSpent\"])\n",
        "\n",
        "# Убедимся, что в нашей таблице все-таки нет nan'ов, построив табличку с количеством nan в каждой колонке.\n",
        "\n",
        "pd.DataFrame(data.isna().sum(), columns = [\"Number on Nan's\"])"
      ],
      "execution_count": 321,
      "outputs": [
        {
          "output_type": "execute_result",
          "data": {
            "text/html": [
              "<div>\n",
              "<style scoped>\n",
              "    .dataframe tbody tr th:only-of-type {\n",
              "        vertical-align: middle;\n",
              "    }\n",
              "\n",
              "    .dataframe tbody tr th {\n",
              "        vertical-align: top;\n",
              "    }\n",
              "\n",
              "    .dataframe thead th {\n",
              "        text-align: right;\n",
              "    }\n",
              "</style>\n",
              "<table border=\"1\" class=\"dataframe\">\n",
              "  <thead>\n",
              "    <tr style=\"text-align: right;\">\n",
              "      <th></th>\n",
              "      <th>Number on Nan's</th>\n",
              "    </tr>\n",
              "  </thead>\n",
              "  <tbody>\n",
              "    <tr>\n",
              "      <th>ClientPeriod</th>\n",
              "      <td>0</td>\n",
              "    </tr>\n",
              "    <tr>\n",
              "      <th>MonthlySpending</th>\n",
              "      <td>0</td>\n",
              "    </tr>\n",
              "    <tr>\n",
              "      <th>TotalSpent</th>\n",
              "      <td>0</td>\n",
              "    </tr>\n",
              "    <tr>\n",
              "      <th>Sex</th>\n",
              "      <td>0</td>\n",
              "    </tr>\n",
              "    <tr>\n",
              "      <th>IsSeniorCitizen</th>\n",
              "      <td>0</td>\n",
              "    </tr>\n",
              "    <tr>\n",
              "      <th>HasPartner</th>\n",
              "      <td>0</td>\n",
              "    </tr>\n",
              "    <tr>\n",
              "      <th>HasChild</th>\n",
              "      <td>0</td>\n",
              "    </tr>\n",
              "    <tr>\n",
              "      <th>HasPhoneService</th>\n",
              "      <td>0</td>\n",
              "    </tr>\n",
              "    <tr>\n",
              "      <th>HasMultiplePhoneNumbers</th>\n",
              "      <td>0</td>\n",
              "    </tr>\n",
              "    <tr>\n",
              "      <th>HasInternetService</th>\n",
              "      <td>0</td>\n",
              "    </tr>\n",
              "    <tr>\n",
              "      <th>HasOnlineSecurityService</th>\n",
              "      <td>0</td>\n",
              "    </tr>\n",
              "    <tr>\n",
              "      <th>HasOnlineBackup</th>\n",
              "      <td>0</td>\n",
              "    </tr>\n",
              "    <tr>\n",
              "      <th>HasDeviceProtection</th>\n",
              "      <td>0</td>\n",
              "    </tr>\n",
              "    <tr>\n",
              "      <th>HasTechSupportAccess</th>\n",
              "      <td>0</td>\n",
              "    </tr>\n",
              "    <tr>\n",
              "      <th>HasOnlineTV</th>\n",
              "      <td>0</td>\n",
              "    </tr>\n",
              "    <tr>\n",
              "      <th>HasMovieSubscription</th>\n",
              "      <td>0</td>\n",
              "    </tr>\n",
              "    <tr>\n",
              "      <th>HasContractPhone</th>\n",
              "      <td>0</td>\n",
              "    </tr>\n",
              "    <tr>\n",
              "      <th>IsBillingPaperless</th>\n",
              "      <td>0</td>\n",
              "    </tr>\n",
              "    <tr>\n",
              "      <th>PaymentMethod</th>\n",
              "      <td>0</td>\n",
              "    </tr>\n",
              "    <tr>\n",
              "      <th>Churn</th>\n",
              "      <td>0</td>\n",
              "    </tr>\n",
              "  </tbody>\n",
              "</table>\n",
              "</div>"
            ],
            "text/plain": [
              "                          Number on Nan's\n",
              "ClientPeriod                            0\n",
              "MonthlySpending                         0\n",
              "TotalSpent                              0\n",
              "Sex                                     0\n",
              "IsSeniorCitizen                         0\n",
              "HasPartner                              0\n",
              "HasChild                                0\n",
              "HasPhoneService                         0\n",
              "HasMultiplePhoneNumbers                 0\n",
              "HasInternetService                      0\n",
              "HasOnlineSecurityService                0\n",
              "HasOnlineBackup                         0\n",
              "HasDeviceProtection                     0\n",
              "HasTechSupportAccess                    0\n",
              "HasOnlineTV                             0\n",
              "HasMovieSubscription                    0\n",
              "HasContractPhone                        0\n",
              "IsBillingPaperless                      0\n",
              "PaymentMethod                           0\n",
              "Churn                                   0"
            ]
          },
          "metadata": {},
          "execution_count": 321
        }
      ]
    },
    {
      "cell_type": "markdown",
      "metadata": {
        "id": "KsE856suaHtW"
      },
      "source": [
        "# Анализ численных признаков\n"
      ]
    },
    {
      "cell_type": "markdown",
      "metadata": {
        "id": "_fRdhEqi-Wvo"
      },
      "source": [
        "Построим гистограммы численных признаков"
      ]
    },
    {
      "cell_type": "code",
      "metadata": {
        "colab": {
          "base_uri": "https://localhost:8080/",
          "height": 692
        },
        "id": "pMWqAcfwBrX8",
        "outputId": "79477efe-1511-4383-f2f6-5bf82945868f"
      },
      "source": [
        "data[num_cols].hist(figsize = (14,10))"
      ],
      "execution_count": 322,
      "outputs": [
        {
          "output_type": "execute_result",
          "data": {
            "text/plain": [
              "array([[<matplotlib.axes._subplots.AxesSubplot object at 0x7fab9ac81650>,\n",
              "        <matplotlib.axes._subplots.AxesSubplot object at 0x7fab97899e50>],\n",
              "       [<matplotlib.axes._subplots.AxesSubplot object at 0x7fab9af57650>,\n",
              "        <matplotlib.axes._subplots.AxesSubplot object at 0x7fab9b3d4390>]],\n",
              "      dtype=object)"
            ]
          },
          "metadata": {},
          "execution_count": 322
        },
        {
          "output_type": "display_data",
          "data": {
            "image/png": "[encoded data removed]",
            "text/plain": [
              "<Figure size 1008x720 with 4 Axes>"
            ]
          },
          "metadata": {
            "needs_background": "light"
          }
        }
      ]
    },
    {
      "cell_type": "markdown",
      "metadata": {
        "id": "UC7QrWgdajce"
      },
      "source": [
        "Анализируя гистограммы, можно сказать, что какие-либо существенные выбросы, которые бы \"ломали\" нашу модель отсутствуют, следовательно, с числовыми признаками производить какую-либо очистку данных не требуется"
      ]
    },
    {
      "cell_type": "markdown",
      "metadata": {
        "id": "7IjPWoExawYD"
      },
      "source": [
        "#Анализ категориальных признаков\n"
      ]
    },
    {
      "cell_type": "markdown",
      "metadata": {
        "id": "qpvF5ZtN-rcP"
      },
      "source": [
        "Посмотрим на *.value_counts()* для каждого категориального признака. Зачем? Иногда бывает так, что в столбце может быть только одно уникальное значение, следовательно, этот столбец является \"фиктивной переменной\", которая не влияет на итоговое решение клиента, воспользуемся циклом *for col in cat_cols:*"
      ]
    },
    {
      "cell_type": "code",
      "metadata": {
        "colab": {
          "base_uri": "https://localhost:8080/"
        },
        "id": "P7bGLSPwBpXt",
        "outputId": "16ba42bb-5028-4ce2-fc1e-cf1aba3e78c6"
      },
      "source": [
        "for col in cat_cols:\n",
        "    print(data[col].value_counts())\n",
        "    print()"
      ],
      "execution_count": 323,
      "outputs": [
        {
          "output_type": "stream",
          "name": "stdout",
          "text": [
            "Male      2655\n",
            "Female    2627\n",
            "Name: Sex, dtype: int64\n",
            "\n",
            "0    4440\n",
            "1     842\n",
            "Name: IsSeniorCitizen, dtype: int64\n",
            "\n",
            "No     2705\n",
            "Yes    2577\n",
            "Name: HasPartner, dtype: int64\n",
            "\n",
            "No     3676\n",
            "Yes    1606\n",
            "Name: HasChild, dtype: int64\n",
            "\n",
            "Yes    4761\n",
            "No      521\n",
            "Name: HasPhoneService, dtype: int64\n",
            "\n",
            "No                  2511\n",
            "Yes                 2250\n",
            "No phone service     521\n",
            "Name: HasMultiplePhoneNumbers, dtype: int64\n",
            "\n",
            "Fiber optic    2341\n",
            "DSL            1800\n",
            "No             1141\n",
            "Name: HasInternetService, dtype: int64\n",
            "\n",
            "No                     2612\n",
            "Yes                    1529\n",
            "No internet service    1141\n",
            "Name: HasOnlineSecurityService, dtype: int64\n",
            "\n",
            "No                     2332\n",
            "Yes                    1809\n",
            "No internet service    1141\n",
            "Name: HasOnlineBackup, dtype: int64\n",
            "\n",
            "No                     2317\n",
            "Yes                    1824\n",
            "No internet service    1141\n",
            "Name: HasDeviceProtection, dtype: int64\n",
            "\n",
            "No                     2604\n",
            "Yes                    1537\n",
            "No internet service    1141\n",
            "Name: HasTechSupportAccess, dtype: int64\n",
            "\n",
            "No                     2099\n",
            "Yes                    2042\n",
            "No internet service    1141\n",
            "Name: HasOnlineTV, dtype: int64\n",
            "\n",
            "No                     2081\n",
            "Yes                    2060\n",
            "No internet service    1141\n",
            "Name: HasMovieSubscription, dtype: int64\n",
            "\n",
            "Month-to-month    2920\n",
            "Two year          1280\n",
            "One year          1082\n",
            "Name: HasContractPhone, dtype: int64\n",
            "\n",
            "Yes    3148\n",
            "No     2134\n",
            "Name: IsBillingPaperless, dtype: int64\n",
            "\n",
            "Electronic check             1786\n",
            "Mailed check                 1194\n",
            "Bank transfer (automatic)    1159\n",
            "Credit card (automatic)      1143\n",
            "Name: PaymentMethod, dtype: int64\n",
            "\n"
          ]
        }
      ]
    },
    {
      "cell_type": "markdown",
      "metadata": {
        "id": "t6GbfwfvdYPm"
      },
      "source": [
        "Мы убедились, что каждый из категориальных признаков имеет больше одного уникального значения, значит все они могут повлиять на нашу модель. \n",
        "\n",
        "Теперь посмотрим на распределение величин категориальных признаков. С помощью seaborn.countplot() можем увидеть и их связь с тем, ушел ли клиент или остался (то есть с целевой переменной)\n",
        "\n",
        "\n"
      ]
    },
    {
      "cell_type": "code",
      "metadata": {
        "colab": {
          "base_uri": "https://localhost:8080/",
          "height": 948
        },
        "id": "95y2VPSVcJKF",
        "outputId": "c4141036-88ed-422c-8412-9ebcba4537ff"
      },
      "source": [
        "import seaborn as sns\n",
        "\n",
        "plt.figure(figsize = (30,20))\n",
        "index_of_plot = 0 \n",
        "for col in cat_cols:\n",
        "  index_of_plot += 1\n",
        "  plt.subplot(4, 4, index_of_plot) \n",
        "  sns.countplot(x = data[col], hue = \"Churn\", data = data, palette=\"Set1\") \n",
        "  plt.xticks(rotation = 10) "
      ],
      "execution_count": 324,
      "outputs": [
        {
          "output_type": "display_data",
          "data": {
            "image/png": "[encoded data removed]",
            "text/plain": [
              "<Figure size 2160x1440 with 16 Axes>"
            ]
          },
          "metadata": {
            "needs_background": "light"
          }
        }
      ]
    },
    {
      "cell_type": "markdown",
      "metadata": {
        "id": "zg60u3QDEEZH"
      },
      "source": [
        "Из построенных гистограмм можно увидеть, что некоторые категориальные признаки (isBillingPaperless, PaymentMethod, HasTechSupportAccess, HasOnlineBackup, HasOnlineSecurityService, HasInternetService) коррелируют с решением клиента уйти или остаться, следовательно, они важны для нашего анализа\n",
        "\n",
        "Осталось посмотреть лишь на распределение целевой переменной\n"
      ]
    },
    {
      "cell_type": "code",
      "metadata": {
        "id": "fwfksF1gEEZI",
        "colab": {
          "base_uri": "https://localhost:8080/",
          "height": 296
        },
        "outputId": "5804d607-132c-4016-db7c-6be0c87b922e"
      },
      "source": [
        "sns.countplot(x = 'Churn', data = data, palette=\"Set1\")"
      ],
      "execution_count": 325,
      "outputs": [
        {
          "output_type": "execute_result",
          "data": {
            "text/plain": [
              "<matplotlib.axes._subplots.AxesSubplot at 0x7fab8e505810>"
            ]
          },
          "metadata": {},
          "execution_count": 325
        },
        {
          "output_type": "display_data",
          "data": {
            "image/png": "[encoded data removed]",
            "text/plain": [
              "<Figure size 432x288 with 1 Axes>"
            ]
          },
          "metadata": {
            "needs_background": "light"
          }
        }
      ]
    },
    {
      "cell_type": "markdown",
      "metadata": {
        "id": "6gh4n3IKgWx0"
      },
      "source": [
        "Из гистограммы становится понятно, что доля пользователей, которые ушли - примерно четвертая часть от всех пользователей. Это может говорить лишь о совсем небольшом дисбалансе данных, то есть эти классы нельзя назвать несбалансированными\n"
      ]
    },
    {
      "cell_type": "markdown",
      "metadata": {
        "id": "DviiJd8REEZK"
      },
      "source": [
        "# Применение линейных моделей"
      ]
    },
    {
      "cell_type": "code",
      "metadata": {
        "id": "xHCLDmwqEEZL"
      },
      "source": [
        "from sklearn.linear_model import LogisticRegression, LogisticRegressionCV\n",
        "from sklearn.model_selection import train_test_split, GridSearchCV, KFold\n",
        "from sklearn.preprocessing import StandardScaler, RobustScaler, LabelEncoder, OneHotEncoder\n",
        "from sklearn.pipeline import make_pipeline\n",
        "from sklearn.metrics import roc_auc_score"
      ],
      "execution_count": 326,
      "outputs": []
    },
    {
      "cell_type": "markdown",
      "metadata": {
        "id": "ZBFhcp3h8hlA"
      },
      "source": [
        "## Произведем one-hot-encoding для категориальных признаков и стандартизацию наших данных. Затем обучим модель с помощью LogisticRegression() и подберём лучшие параметры с помощью GridSearchCV()"
      ]
    },
    {
      "cell_type": "code",
      "metadata": {
        "id": "P2Yv3uYtEEZO",
        "colab": {
          "base_uri": "https://localhost:8080/",
          "height": 257
        },
        "outputId": "a840a104-bd26-431a-c0ce-0131f4ea98a4"
      },
      "source": [
        "X_origin = data.iloc[:, :-1] # запоминаем на всякий случай изначальный датасет\n",
        "\n",
        "dummy_features = pd.get_dummies(data[cat_cols]) # one-hot-encoding для категориальных признаков\n",
        "\n",
        "X = pd.concat([data[num_cols], dummy_features], axis=1) # склеиваем числовые и категориальные признаки в один датафрейм признаков\n",
        "y = data[target_col] # вектор правильных ответов\n",
        "\n",
        "X.head() # посмотрим на верх нашего нового датафрейма и убедимся, что все получилось"
      ],
      "execution_count": 327,
      "outputs": [
        {
          "output_type": "execute_result",
          "data": {
            "text/html": [
              "<div>\n",
              "<style scoped>\n",
              "    .dataframe tbody tr th:only-of-type {\n",
              "        vertical-align: middle;\n",
              "    }\n",
              "\n",
              "    .dataframe tbody tr th {\n",
              "        vertical-align: top;\n",
              "    }\n",
              "\n",
              "    .dataframe thead th {\n",
              "        text-align: right;\n",
              "    }\n",
              "</style>\n",
              "<table border=\"1\" class=\"dataframe\">\n",
              "  <thead>\n",
              "    <tr style=\"text-align: right;\">\n",
              "      <th></th>\n",
              "      <th>ClientPeriod</th>\n",
              "      <th>MonthlySpending</th>\n",
              "      <th>TotalSpent</th>\n",
              "      <th>IsSeniorCitizen</th>\n",
              "      <th>Sex_Female</th>\n",
              "      <th>Sex_Male</th>\n",
              "      <th>HasPartner_No</th>\n",
              "      <th>HasPartner_Yes</th>\n",
              "      <th>HasChild_No</th>\n",
              "      <th>HasChild_Yes</th>\n",
              "      <th>HasPhoneService_No</th>\n",
              "      <th>HasPhoneService_Yes</th>\n",
              "      <th>HasMultiplePhoneNumbers_No</th>\n",
              "      <th>HasMultiplePhoneNumbers_No phone service</th>\n",
              "      <th>HasMultiplePhoneNumbers_Yes</th>\n",
              "      <th>HasInternetService_DSL</th>\n",
              "      <th>HasInternetService_Fiber optic</th>\n",
              "      <th>HasInternetService_No</th>\n",
              "      <th>HasOnlineSecurityService_No</th>\n",
              "      <th>HasOnlineSecurityService_No internet service</th>\n",
              "      <th>HasOnlineSecurityService_Yes</th>\n",
              "      <th>HasOnlineBackup_No</th>\n",
              "      <th>HasOnlineBackup_No internet service</th>\n",
              "      <th>HasOnlineBackup_Yes</th>\n",
              "      <th>HasDeviceProtection_No</th>\n",
              "      <th>HasDeviceProtection_No internet service</th>\n",
              "      <th>HasDeviceProtection_Yes</th>\n",
              "      <th>HasTechSupportAccess_No</th>\n",
              "      <th>HasTechSupportAccess_No internet service</th>\n",
              "      <th>HasTechSupportAccess_Yes</th>\n",
              "      <th>HasOnlineTV_No</th>\n",
              "      <th>HasOnlineTV_No internet service</th>\n",
              "      <th>HasOnlineTV_Yes</th>\n",
              "      <th>HasMovieSubscription_No</th>\n",
              "      <th>HasMovieSubscription_No internet service</th>\n",
              "      <th>HasMovieSubscription_Yes</th>\n",
              "      <th>HasContractPhone_Month-to-month</th>\n",
              "      <th>HasContractPhone_One year</th>\n",
              "      <th>HasContractPhone_Two year</th>\n",
              "      <th>IsBillingPaperless_No</th>\n",
              "      <th>IsBillingPaperless_Yes</th>\n",
              "      <th>PaymentMethod_Bank transfer (automatic)</th>\n",
              "      <th>PaymentMethod_Credit card (automatic)</th>\n",
              "      <th>PaymentMethod_Electronic check</th>\n",
              "      <th>PaymentMethod_Mailed check</th>\n",
              "    </tr>\n",
              "  </thead>\n",
              "  <tbody>\n",
              "    <tr>\n",
              "      <th>0</th>\n",
              "      <td>55</td>\n",
              "      <td>19.50</td>\n",
              "      <td>1026.35</td>\n",
              "      <td>0</td>\n",
              "      <td>0</td>\n",
              "      <td>1</td>\n",
              "      <td>0</td>\n",
              "      <td>1</td>\n",
              "      <td>0</td>\n",
              "      <td>1</td>\n",
              "      <td>0</td>\n",
              "      <td>1</td>\n",
              "      <td>1</td>\n",
              "      <td>0</td>\n",
              "      <td>0</td>\n",
              "      <td>0</td>\n",
              "      <td>0</td>\n",
              "      <td>1</td>\n",
              "      <td>0</td>\n",
              "      <td>1</td>\n",
              "      <td>0</td>\n",
              "      <td>0</td>\n",
              "      <td>1</td>\n",
              "      <td>0</td>\n",
              "      <td>0</td>\n",
              "      <td>1</td>\n",
              "      <td>0</td>\n",
              "      <td>0</td>\n",
              "      <td>1</td>\n",
              "      <td>0</td>\n",
              "      <td>0</td>\n",
              "      <td>1</td>\n",
              "      <td>0</td>\n",
              "      <td>0</td>\n",
              "      <td>1</td>\n",
              "      <td>0</td>\n",
              "      <td>0</td>\n",
              "      <td>1</td>\n",
              "      <td>0</td>\n",
              "      <td>1</td>\n",
              "      <td>0</td>\n",
              "      <td>0</td>\n",
              "      <td>0</td>\n",
              "      <td>0</td>\n",
              "      <td>1</td>\n",
              "    </tr>\n",
              "    <tr>\n",
              "      <th>1</th>\n",
              "      <td>72</td>\n",
              "      <td>25.85</td>\n",
              "      <td>1872.20</td>\n",
              "      <td>0</td>\n",
              "      <td>0</td>\n",
              "      <td>1</td>\n",
              "      <td>0</td>\n",
              "      <td>1</td>\n",
              "      <td>1</td>\n",
              "      <td>0</td>\n",
              "      <td>0</td>\n",
              "      <td>1</td>\n",
              "      <td>0</td>\n",
              "      <td>0</td>\n",
              "      <td>1</td>\n",
              "      <td>0</td>\n",
              "      <td>0</td>\n",
              "      <td>1</td>\n",
              "      <td>0</td>\n",
              "      <td>1</td>\n",
              "      <td>0</td>\n",
              "      <td>0</td>\n",
              "      <td>1</td>\n",
              "      <td>0</td>\n",
              "      <td>0</td>\n",
              "      <td>1</td>\n",
              "      <td>0</td>\n",
              "      <td>0</td>\n",
              "      <td>1</td>\n",
              "      <td>0</td>\n",
              "      <td>0</td>\n",
              "      <td>1</td>\n",
              "      <td>0</td>\n",
              "      <td>0</td>\n",
              "      <td>1</td>\n",
              "      <td>0</td>\n",
              "      <td>0</td>\n",
              "      <td>0</td>\n",
              "      <td>1</td>\n",
              "      <td>1</td>\n",
              "      <td>0</td>\n",
              "      <td>0</td>\n",
              "      <td>1</td>\n",
              "      <td>0</td>\n",
              "      <td>0</td>\n",
              "    </tr>\n",
              "    <tr>\n",
              "      <th>2</th>\n",
              "      <td>1</td>\n",
              "      <td>75.90</td>\n",
              "      <td>75.90</td>\n",
              "      <td>0</td>\n",
              "      <td>0</td>\n",
              "      <td>1</td>\n",
              "      <td>1</td>\n",
              "      <td>0</td>\n",
              "      <td>1</td>\n",
              "      <td>0</td>\n",
              "      <td>0</td>\n",
              "      <td>1</td>\n",
              "      <td>1</td>\n",
              "      <td>0</td>\n",
              "      <td>0</td>\n",
              "      <td>0</td>\n",
              "      <td>1</td>\n",
              "      <td>0</td>\n",
              "      <td>1</td>\n",
              "      <td>0</td>\n",
              "      <td>0</td>\n",
              "      <td>1</td>\n",
              "      <td>0</td>\n",
              "      <td>0</td>\n",
              "      <td>1</td>\n",
              "      <td>0</td>\n",
              "      <td>0</td>\n",
              "      <td>0</td>\n",
              "      <td>0</td>\n",
              "      <td>1</td>\n",
              "      <td>1</td>\n",
              "      <td>0</td>\n",
              "      <td>0</td>\n",
              "      <td>1</td>\n",
              "      <td>0</td>\n",
              "      <td>0</td>\n",
              "      <td>1</td>\n",
              "      <td>0</td>\n",
              "      <td>0</td>\n",
              "      <td>0</td>\n",
              "      <td>1</td>\n",
              "      <td>0</td>\n",
              "      <td>0</td>\n",
              "      <td>1</td>\n",
              "      <td>0</td>\n",
              "    </tr>\n",
              "    <tr>\n",
              "      <th>3</th>\n",
              "      <td>32</td>\n",
              "      <td>79.30</td>\n",
              "      <td>2570.00</td>\n",
              "      <td>1</td>\n",
              "      <td>1</td>\n",
              "      <td>0</td>\n",
              "      <td>0</td>\n",
              "      <td>1</td>\n",
              "      <td>1</td>\n",
              "      <td>0</td>\n",
              "      <td>0</td>\n",
              "      <td>1</td>\n",
              "      <td>0</td>\n",
              "      <td>0</td>\n",
              "      <td>1</td>\n",
              "      <td>0</td>\n",
              "      <td>1</td>\n",
              "      <td>0</td>\n",
              "      <td>1</td>\n",
              "      <td>0</td>\n",
              "      <td>0</td>\n",
              "      <td>1</td>\n",
              "      <td>0</td>\n",
              "      <td>0</td>\n",
              "      <td>0</td>\n",
              "      <td>0</td>\n",
              "      <td>1</td>\n",
              "      <td>1</td>\n",
              "      <td>0</td>\n",
              "      <td>0</td>\n",
              "      <td>1</td>\n",
              "      <td>0</td>\n",
              "      <td>0</td>\n",
              "      <td>1</td>\n",
              "      <td>0</td>\n",
              "      <td>0</td>\n",
              "      <td>1</td>\n",
              "      <td>0</td>\n",
              "      <td>0</td>\n",
              "      <td>1</td>\n",
              "      <td>0</td>\n",
              "      <td>0</td>\n",
              "      <td>0</td>\n",
              "      <td>0</td>\n",
              "      <td>1</td>\n",
              "    </tr>\n",
              "    <tr>\n",
              "      <th>4</th>\n",
              "      <td>60</td>\n",
              "      <td>115.25</td>\n",
              "      <td>6758.45</td>\n",
              "      <td>0</td>\n",
              "      <td>1</td>\n",
              "      <td>0</td>\n",
              "      <td>0</td>\n",
              "      <td>1</td>\n",
              "      <td>0</td>\n",
              "      <td>1</td>\n",
              "      <td>0</td>\n",
              "      <td>1</td>\n",
              "      <td>0</td>\n",
              "      <td>0</td>\n",
              "      <td>1</td>\n",
              "      <td>0</td>\n",
              "      <td>1</td>\n",
              "      <td>0</td>\n",
              "      <td>0</td>\n",
              "      <td>0</td>\n",
              "      <td>1</td>\n",
              "      <td>0</td>\n",
              "      <td>0</td>\n",
              "      <td>1</td>\n",
              "      <td>0</td>\n",
              "      <td>0</td>\n",
              "      <td>1</td>\n",
              "      <td>0</td>\n",
              "      <td>0</td>\n",
              "      <td>1</td>\n",
              "      <td>0</td>\n",
              "      <td>0</td>\n",
              "      <td>1</td>\n",
              "      <td>0</td>\n",
              "      <td>0</td>\n",
              "      <td>1</td>\n",
              "      <td>0</td>\n",
              "      <td>0</td>\n",
              "      <td>1</td>\n",
              "      <td>1</td>\n",
              "      <td>0</td>\n",
              "      <td>0</td>\n",
              "      <td>1</td>\n",
              "      <td>0</td>\n",
              "      <td>0</td>\n",
              "    </tr>\n",
              "  </tbody>\n",
              "</table>\n",
              "</div>"
            ],
            "text/plain": [
              "   ClientPeriod  ...  PaymentMethod_Mailed check\n",
              "0            55  ...                           1\n",
              "1            72  ...                           0\n",
              "2             1  ...                           0\n",
              "3            32  ...                           1\n",
              "4            60  ...                           0\n",
              "\n",
              "[5 rows x 45 columns]"
            ]
          },
          "metadata": {},
          "execution_count": 327
        }
      ]
    },
    {
      "cell_type": "code",
      "metadata": {
        "id": "zJ8ogZOODVyF"
      },
      "source": [
        "X_train, X_test, y_train, y_test = train_test_split(X.values, y.values, train_size=0.8, random_state=42) # Делим выборку на обучающую и тестовую\n",
        "\n",
        "scaler = StandardScaler().fit(X_train) # задаем функцию стандартизации данных\n",
        "X_train_scaled = scaler.transform(X_train) # стандартизиуем данные у X_train"
      ],
      "execution_count": 328,
      "outputs": []
    },
    {
      "cell_type": "code",
      "metadata": {
        "colab": {
          "base_uri": "https://localhost:8080/"
        },
        "id": "czOm61wbiJhe",
        "outputId": "85f80bad-a24a-4bf5-cbe4-dba8f3bc41cc"
      },
      "source": [
        "fold = KFold(shuffle=True, random_state=777) # создаем наши фолды\n",
        "\n",
        "param_grid = {\n",
        "    'C': [100, 10, 1, 0.1, 0.01, 0.001]\n",
        "} # создаем список, по которому будет идти поиск лучшего гиперпараметра C\n",
        "\n",
        "clf = LogisticRegression() # наша модель - Логистическая регрессия\n",
        "\n",
        "gs = GridSearchCV(clf, param_grid = param_grid, scoring='roc_auc', cv = fold, n_jobs = -1)\n",
        "gs.fit(X_train_scaled, y_train)  # производим перебор гипер параметров с помощью GridSearchCV и обучаем модель\n",
        "\n",
        "print ('gs.best_score_:', gs.best_score_) # выводим скор (метрика = roc_auc), который получился при обучении на train выборке\n",
        "print ('gs.best_params_:', gs.best_params_) # выводим значение параметра С, которое получилось при обучении на train выборке"
      ],
      "execution_count": 335,
      "outputs": [
        {
          "output_type": "stream",
          "name": "stdout",
          "text": [
            "gs.best_score_: 0.8479583010447034\n",
            "gs.best_params_: {'C': 1}\n"
          ]
        }
      ]
    },
    {
      "cell_type": "code",
      "metadata": {
        "colab": {
          "base_uri": "https://localhost:8080/"
        },
        "id": "KudpLbuEM76t",
        "outputId": "b6a3c8cd-db6b-412e-886a-07d27aaa41b4"
      },
      "source": [
        "# проверяем нашу модель на переобучение на тестовой выборке\n",
        "\n",
        "X_test_scaled = scaler.transform(X_test) # стандартизиуем данные у X_test\n",
        "\n",
        "y_test_pred = gs.predict_proba(X_test_scaled)[:, 1] # предсказания модели на тестовой выборке\n",
        "\n",
        "roc_auc_score(y_test, y_test_pred) # выводим скор (метрика = roc_auc) на тестовой выборке\n",
        "\n",
        "# значения roc_auc_score у train и test выборки примерно равны, что значит, что наша модель не переобучилась и все прошло удачно"
      ],
      "execution_count": 334,
      "outputs": [
        {
          "output_type": "execute_result",
          "data": {
            "text/plain": [
              "0.8284509747785853"
            ]
          },
          "metadata": {},
          "execution_count": 334
        }
      ]
    },
    {
      "cell_type": "markdown",
      "metadata": {
        "id": "y2BasSj67bZg"
      },
      "source": [
        "**Лучшее качество, которое удалось получить на тестовой выборке - roc_auc_score = 0.8284509747785853** \n",
        "\n",
        "**Лучшее значение гиперпараметра C получилось {'C': 1}** \n",
        "\n"
      ]
    },
    {
      "cell_type": "markdown",
      "metadata": {
        "id": "N8zF-EBSRcvg"
      },
      "source": [
        "# Catboost"
      ]
    },
    {
      "cell_type": "code",
      "metadata": {
        "id": "DxW5C0U1BhT4"
      },
      "source": [
        "import catboost"
      ],
      "execution_count": 336,
      "outputs": []
    },
    {
      "cell_type": "code",
      "metadata": {
        "colab": {
          "base_uri": "https://localhost:8080/"
        },
        "id": "WXaMBDeAD2jX",
        "outputId": "7297d314-711a-49d0-b6c2-87d36916e23c"
      },
      "source": [
        "X_train_origin, X_test_origin, y_train_origin, y_test_origin = train_test_split(X_origin, y, train_size=0.8, random_state=42) # Делим датасет на обучающую и тестовую выборки\n",
        "\n",
        "boosting_model = catboost.CatBoostClassifier(n_estimators=200, cat_features = cat_cols)\n",
        "\n",
        "boosting_model.fit(X_train_origin, y_train_origin, cat_features = cat_cols) # Обучаем модель\n",
        "\n",
        "y_train_predicted = boosting_model.predict_proba(X_train_origin)[:, 1]\n",
        "y_test_predicted = boosting_model.predict_proba(X_test_origin)[:, 1]\n",
        "\n",
        "print(\"train_roc_auc_score:\", roc_auc_score(y_train_origin, y_train_predicted))\n",
        "print(\"test_roc_auc_score:\", roc_auc_score(y_test_origin, y_test_predicted))"
      ],
      "execution_count": 338,
      "outputs": [
        {
          "output_type": "stream",
          "name": "stdout",
          "text": [
            "Learning rate set to 0.083391\n",
            "0:\tlearn: 0.6382749\ttotal: 14.9ms\tremaining: 2.97s\n",
            "1:\tlearn: 0.5970973\ttotal: 27.8ms\tremaining: 2.75s\n",
            "2:\tlearn: 0.5610080\ttotal: 40.8ms\tremaining: 2.68s\n",
            "3:\tlearn: 0.5329491\ttotal: 53.7ms\tremaining: 2.63s\n",
            "4:\tlearn: 0.5112068\ttotal: 68.2ms\tremaining: 2.66s\n",
            "5:\tlearn: 0.4930985\ttotal: 81.5ms\tremaining: 2.63s\n",
            "6:\tlearn: 0.4800850\ttotal: 93ms\tremaining: 2.56s\n",
            "7:\tlearn: 0.4681540\ttotal: 107ms\tremaining: 2.57s\n",
            "8:\tlearn: 0.4583285\ttotal: 120ms\tremaining: 2.54s\n",
            "9:\tlearn: 0.4494858\ttotal: 135ms\tremaining: 2.56s\n",
            "10:\tlearn: 0.4439489\ttotal: 146ms\tremaining: 2.51s\n",
            "11:\tlearn: 0.4371125\ttotal: 162ms\tremaining: 2.54s\n",
            "12:\tlearn: 0.4311122\ttotal: 179ms\tremaining: 2.58s\n",
            "13:\tlearn: 0.4264039\ttotal: 193ms\tremaining: 2.57s\n",
            "14:\tlearn: 0.4222915\ttotal: 211ms\tremaining: 2.6s\n",
            "15:\tlearn: 0.4190003\ttotal: 225ms\tremaining: 2.59s\n",
            "16:\tlearn: 0.4153313\ttotal: 238ms\tremaining: 2.57s\n",
            "17:\tlearn: 0.4132986\ttotal: 250ms\tremaining: 2.52s\n",
            "18:\tlearn: 0.4116653\ttotal: 261ms\tremaining: 2.49s\n",
            "19:\tlearn: 0.4096251\ttotal: 273ms\tremaining: 2.46s\n",
            "20:\tlearn: 0.4075427\ttotal: 287ms\tremaining: 2.45s\n",
            "21:\tlearn: 0.4050433\ttotal: 300ms\tremaining: 2.42s\n",
            "22:\tlearn: 0.4040113\ttotal: 313ms\tremaining: 2.41s\n",
            "23:\tlearn: 0.4021203\ttotal: 326ms\tremaining: 2.39s\n",
            "24:\tlearn: 0.4007424\ttotal: 338ms\tremaining: 2.37s\n",
            "25:\tlearn: 0.4000701\ttotal: 351ms\tremaining: 2.35s\n",
            "26:\tlearn: 0.3991902\ttotal: 365ms\tremaining: 2.34s\n",
            "27:\tlearn: 0.3987400\ttotal: 371ms\tremaining: 2.28s\n",
            "28:\tlearn: 0.3972540\ttotal: 384ms\tremaining: 2.26s\n",
            "29:\tlearn: 0.3954624\ttotal: 399ms\tremaining: 2.26s\n",
            "30:\tlearn: 0.3944855\ttotal: 427ms\tremaining: 2.33s\n",
            "31:\tlearn: 0.3940795\ttotal: 443ms\tremaining: 2.32s\n",
            "32:\tlearn: 0.3924122\ttotal: 457ms\tremaining: 2.31s\n",
            "33:\tlearn: 0.3922152\ttotal: 468ms\tremaining: 2.28s\n",
            "34:\tlearn: 0.3909376\ttotal: 483ms\tremaining: 2.27s\n",
            "35:\tlearn: 0.3901188\ttotal: 496ms\tremaining: 2.26s\n",
            "36:\tlearn: 0.3898887\ttotal: 506ms\tremaining: 2.23s\n",
            "37:\tlearn: 0.3886369\ttotal: 521ms\tremaining: 2.22s\n",
            "38:\tlearn: 0.3885686\ttotal: 525ms\tremaining: 2.17s\n",
            "39:\tlearn: 0.3875534\ttotal: 542ms\tremaining: 2.17s\n",
            "40:\tlearn: 0.3870499\ttotal: 556ms\tremaining: 2.15s\n",
            "41:\tlearn: 0.3864759\ttotal: 570ms\tremaining: 2.15s\n",
            "42:\tlearn: 0.3857375\ttotal: 584ms\tremaining: 2.13s\n",
            "43:\tlearn: 0.3854573\ttotal: 592ms\tremaining: 2.1s\n",
            "44:\tlearn: 0.3850862\ttotal: 607ms\tremaining: 2.09s\n",
            "45:\tlearn: 0.3847126\ttotal: 623ms\tremaining: 2.08s\n",
            "46:\tlearn: 0.3844990\ttotal: 639ms\tremaining: 2.08s\n",
            "47:\tlearn: 0.3842831\ttotal: 652ms\tremaining: 2.06s\n",
            "48:\tlearn: 0.3834734\ttotal: 668ms\tremaining: 2.06s\n",
            "49:\tlearn: 0.3829007\ttotal: 682ms\tremaining: 2.04s\n",
            "50:\tlearn: 0.3824525\ttotal: 694ms\tremaining: 2.03s\n",
            "51:\tlearn: 0.3816902\ttotal: 707ms\tremaining: 2.01s\n",
            "52:\tlearn: 0.3811084\ttotal: 720ms\tremaining: 2s\n",
            "53:\tlearn: 0.3808794\ttotal: 739ms\tremaining: 2s\n",
            "54:\tlearn: 0.3808481\ttotal: 751ms\tremaining: 1.98s\n",
            "55:\tlearn: 0.3805372\ttotal: 769ms\tremaining: 1.98s\n",
            "56:\tlearn: 0.3798495\ttotal: 782ms\tremaining: 1.96s\n",
            "57:\tlearn: 0.3797698\ttotal: 792ms\tremaining: 1.94s\n",
            "58:\tlearn: 0.3797698\ttotal: 796ms\tremaining: 1.9s\n",
            "59:\tlearn: 0.3796845\ttotal: 801ms\tremaining: 1.87s\n",
            "60:\tlearn: 0.3793727\ttotal: 814ms\tremaining: 1.85s\n",
            "61:\tlearn: 0.3791538\ttotal: 833ms\tremaining: 1.85s\n",
            "62:\tlearn: 0.3788657\ttotal: 845ms\tremaining: 1.84s\n",
            "63:\tlearn: 0.3783145\ttotal: 859ms\tremaining: 1.83s\n",
            "64:\tlearn: 0.3782623\ttotal: 864ms\tremaining: 1.79s\n",
            "65:\tlearn: 0.3780186\ttotal: 877ms\tremaining: 1.78s\n",
            "66:\tlearn: 0.3779709\ttotal: 883ms\tremaining: 1.75s\n",
            "67:\tlearn: 0.3778053\ttotal: 896ms\tremaining: 1.74s\n",
            "68:\tlearn: 0.3778005\ttotal: 903ms\tremaining: 1.71s\n",
            "69:\tlearn: 0.3772441\ttotal: 915ms\tremaining: 1.7s\n",
            "70:\tlearn: 0.3767515\ttotal: 928ms\tremaining: 1.69s\n",
            "71:\tlearn: 0.3767167\ttotal: 935ms\tremaining: 1.66s\n",
            "72:\tlearn: 0.3760602\ttotal: 948ms\tremaining: 1.65s\n",
            "73:\tlearn: 0.3755162\ttotal: 960ms\tremaining: 1.64s\n",
            "74:\tlearn: 0.3755161\ttotal: 963ms\tremaining: 1.6s\n",
            "75:\tlearn: 0.3749442\ttotal: 978ms\tremaining: 1.59s\n",
            "76:\tlearn: 0.3741970\ttotal: 991ms\tremaining: 1.58s\n",
            "77:\tlearn: 0.3739396\ttotal: 1.01s\tremaining: 1.57s\n",
            "78:\tlearn: 0.3732432\ttotal: 1.02s\tremaining: 1.56s\n",
            "79:\tlearn: 0.3731442\ttotal: 1.04s\tremaining: 1.56s\n",
            "80:\tlearn: 0.3729462\ttotal: 1.05s\tremaining: 1.54s\n",
            "81:\tlearn: 0.3729300\ttotal: 1.05s\tremaining: 1.52s\n",
            "82:\tlearn: 0.3727758\ttotal: 1.07s\tremaining: 1.5s\n",
            "83:\tlearn: 0.3722746\ttotal: 1.08s\tremaining: 1.49s\n",
            "84:\tlearn: 0.3717791\ttotal: 1.1s\tremaining: 1.48s\n",
            "85:\tlearn: 0.3711226\ttotal: 1.11s\tremaining: 1.47s\n",
            "86:\tlearn: 0.3710941\ttotal: 1.12s\tremaining: 1.45s\n",
            "87:\tlearn: 0.3705720\ttotal: 1.13s\tremaining: 1.44s\n",
            "88:\tlearn: 0.3697404\ttotal: 1.14s\tremaining: 1.43s\n",
            "89:\tlearn: 0.3691339\ttotal: 1.16s\tremaining: 1.41s\n",
            "90:\tlearn: 0.3683990\ttotal: 1.17s\tremaining: 1.4s\n",
            "91:\tlearn: 0.3683683\ttotal: 1.18s\tremaining: 1.38s\n",
            "92:\tlearn: 0.3680619\ttotal: 1.19s\tremaining: 1.37s\n",
            "93:\tlearn: 0.3678784\ttotal: 1.2s\tremaining: 1.36s\n",
            "94:\tlearn: 0.3678419\ttotal: 1.22s\tremaining: 1.34s\n",
            "95:\tlearn: 0.3670426\ttotal: 1.23s\tremaining: 1.34s\n",
            "96:\tlearn: 0.3670225\ttotal: 1.24s\tremaining: 1.32s\n",
            "97:\tlearn: 0.3668194\ttotal: 1.25s\tremaining: 1.3s\n",
            "98:\tlearn: 0.3667144\ttotal: 1.26s\tremaining: 1.29s\n",
            "99:\tlearn: 0.3660682\ttotal: 1.28s\tremaining: 1.28s\n",
            "100:\tlearn: 0.3655011\ttotal: 1.3s\tremaining: 1.28s\n",
            "101:\tlearn: 0.3649386\ttotal: 1.32s\tremaining: 1.27s\n",
            "102:\tlearn: 0.3648699\ttotal: 1.33s\tremaining: 1.25s\n",
            "103:\tlearn: 0.3643366\ttotal: 1.35s\tremaining: 1.24s\n",
            "104:\tlearn: 0.3635979\ttotal: 1.36s\tremaining: 1.23s\n",
            "105:\tlearn: 0.3627088\ttotal: 1.38s\tremaining: 1.22s\n",
            "106:\tlearn: 0.3620785\ttotal: 1.39s\tremaining: 1.21s\n",
            "107:\tlearn: 0.3617695\ttotal: 1.41s\tremaining: 1.2s\n",
            "108:\tlearn: 0.3613014\ttotal: 1.42s\tremaining: 1.19s\n",
            "109:\tlearn: 0.3610759\ttotal: 1.44s\tremaining: 1.18s\n",
            "110:\tlearn: 0.3602564\ttotal: 1.46s\tremaining: 1.17s\n",
            "111:\tlearn: 0.3596120\ttotal: 1.47s\tremaining: 1.16s\n",
            "112:\tlearn: 0.3592967\ttotal: 1.48s\tremaining: 1.14s\n",
            "113:\tlearn: 0.3590571\ttotal: 1.5s\tremaining: 1.13s\n",
            "114:\tlearn: 0.3581168\ttotal: 1.51s\tremaining: 1.12s\n",
            "115:\tlearn: 0.3570498\ttotal: 1.53s\tremaining: 1.11s\n",
            "116:\tlearn: 0.3565090\ttotal: 1.54s\tremaining: 1.09s\n",
            "117:\tlearn: 0.3560066\ttotal: 1.56s\tremaining: 1.08s\n",
            "118:\tlearn: 0.3554388\ttotal: 1.57s\tremaining: 1.07s\n",
            "119:\tlearn: 0.3545807\ttotal: 1.59s\tremaining: 1.06s\n",
            "120:\tlearn: 0.3538430\ttotal: 1.6s\tremaining: 1.05s\n",
            "121:\tlearn: 0.3536601\ttotal: 1.62s\tremaining: 1.04s\n",
            "122:\tlearn: 0.3528762\ttotal: 1.64s\tremaining: 1.03s\n",
            "123:\tlearn: 0.3525556\ttotal: 1.67s\tremaining: 1.02s\n",
            "124:\tlearn: 0.3519674\ttotal: 1.68s\tremaining: 1.01s\n",
            "125:\tlearn: 0.3515087\ttotal: 1.69s\tremaining: 995ms\n",
            "126:\tlearn: 0.3510957\ttotal: 1.71s\tremaining: 983ms\n",
            "127:\tlearn: 0.3504347\ttotal: 1.73s\tremaining: 971ms\n",
            "128:\tlearn: 0.3498930\ttotal: 1.74s\tremaining: 959ms\n",
            "129:\tlearn: 0.3498773\ttotal: 1.75s\tremaining: 945ms\n",
            "130:\tlearn: 0.3495938\ttotal: 1.77s\tremaining: 932ms\n",
            "131:\tlearn: 0.3491192\ttotal: 1.78s\tremaining: 919ms\n",
            "132:\tlearn: 0.3486390\ttotal: 1.8s\tremaining: 906ms\n",
            "133:\tlearn: 0.3483253\ttotal: 1.81s\tremaining: 893ms\n",
            "134:\tlearn: 0.3478604\ttotal: 1.83s\tremaining: 880ms\n",
            "135:\tlearn: 0.3473139\ttotal: 1.85s\tremaining: 869ms\n",
            "136:\tlearn: 0.3465742\ttotal: 1.86s\tremaining: 856ms\n",
            "137:\tlearn: 0.3459269\ttotal: 1.88s\tremaining: 844ms\n",
            "138:\tlearn: 0.3454692\ttotal: 1.89s\tremaining: 831ms\n",
            "139:\tlearn: 0.3447342\ttotal: 1.91s\tremaining: 817ms\n",
            "140:\tlearn: 0.3443835\ttotal: 1.92s\tremaining: 804ms\n",
            "141:\tlearn: 0.3440180\ttotal: 1.94s\tremaining: 791ms\n",
            "142:\tlearn: 0.3435210\ttotal: 1.95s\tremaining: 777ms\n",
            "143:\tlearn: 0.3432139\ttotal: 1.96s\tremaining: 764ms\n",
            "144:\tlearn: 0.3429666\ttotal: 1.98s\tremaining: 750ms\n",
            "145:\tlearn: 0.3422666\ttotal: 1.99s\tremaining: 737ms\n",
            "146:\tlearn: 0.3414246\ttotal: 2.01s\tremaining: 725ms\n",
            "147:\tlearn: 0.3412905\ttotal: 2.02s\tremaining: 712ms\n",
            "148:\tlearn: 0.3409735\ttotal: 2.04s\tremaining: 698ms\n",
            "149:\tlearn: 0.3404462\ttotal: 2.06s\tremaining: 686ms\n",
            "150:\tlearn: 0.3400577\ttotal: 2.07s\tremaining: 672ms\n",
            "151:\tlearn: 0.3393906\ttotal: 2.09s\tremaining: 659ms\n",
            "152:\tlearn: 0.3391789\ttotal: 2.1s\tremaining: 645ms\n",
            "153:\tlearn: 0.3387415\ttotal: 2.11s\tremaining: 631ms\n",
            "154:\tlearn: 0.3381412\ttotal: 2.13s\tremaining: 618ms\n",
            "155:\tlearn: 0.3379839\ttotal: 2.14s\tremaining: 604ms\n",
            "156:\tlearn: 0.3377456\ttotal: 2.16s\tremaining: 591ms\n",
            "157:\tlearn: 0.3375700\ttotal: 2.17s\tremaining: 577ms\n",
            "158:\tlearn: 0.3373653\ttotal: 2.19s\tremaining: 564ms\n",
            "159:\tlearn: 0.3372423\ttotal: 2.2s\tremaining: 550ms\n",
            "160:\tlearn: 0.3367989\ttotal: 2.22s\tremaining: 537ms\n",
            "161:\tlearn: 0.3364328\ttotal: 2.23s\tremaining: 523ms\n",
            "162:\tlearn: 0.3358108\ttotal: 2.25s\tremaining: 510ms\n",
            "163:\tlearn: 0.3354695\ttotal: 2.26s\tremaining: 497ms\n",
            "164:\tlearn: 0.3353998\ttotal: 2.28s\tremaining: 483ms\n",
            "165:\tlearn: 0.3346514\ttotal: 2.29s\tremaining: 470ms\n",
            "166:\tlearn: 0.3344228\ttotal: 2.31s\tremaining: 456ms\n",
            "167:\tlearn: 0.3340192\ttotal: 2.32s\tremaining: 442ms\n",
            "168:\tlearn: 0.3333952\ttotal: 2.34s\tremaining: 429ms\n",
            "169:\tlearn: 0.3333016\ttotal: 2.35s\tremaining: 415ms\n",
            "170:\tlearn: 0.3329148\ttotal: 2.37s\tremaining: 401ms\n",
            "171:\tlearn: 0.3324075\ttotal: 2.38s\tremaining: 387ms\n",
            "172:\tlearn: 0.3319238\ttotal: 2.39s\tremaining: 374ms\n",
            "173:\tlearn: 0.3318120\ttotal: 2.41s\tremaining: 360ms\n",
            "174:\tlearn: 0.3313655\ttotal: 2.42s\tremaining: 346ms\n",
            "175:\tlearn: 0.3308577\ttotal: 2.44s\tremaining: 333ms\n",
            "176:\tlearn: 0.3304127\ttotal: 2.45s\tremaining: 319ms\n",
            "177:\tlearn: 0.3303545\ttotal: 2.47s\tremaining: 305ms\n",
            "178:\tlearn: 0.3302146\ttotal: 2.49s\tremaining: 292ms\n",
            "179:\tlearn: 0.3300223\ttotal: 2.5s\tremaining: 278ms\n",
            "180:\tlearn: 0.3299007\ttotal: 2.51s\tremaining: 264ms\n",
            "181:\tlearn: 0.3297259\ttotal: 2.53s\tremaining: 250ms\n",
            "182:\tlearn: 0.3293485\ttotal: 2.54s\tremaining: 236ms\n",
            "183:\tlearn: 0.3292667\ttotal: 2.56s\tremaining: 222ms\n",
            "184:\tlearn: 0.3288691\ttotal: 2.57s\tremaining: 209ms\n",
            "185:\tlearn: 0.3287437\ttotal: 2.58s\tremaining: 195ms\n",
            "186:\tlearn: 0.3281219\ttotal: 2.6s\tremaining: 181ms\n",
            "187:\tlearn: 0.3280090\ttotal: 2.62s\tremaining: 167ms\n",
            "188:\tlearn: 0.3276785\ttotal: 2.64s\tremaining: 153ms\n",
            "189:\tlearn: 0.3272945\ttotal: 2.65s\tremaining: 140ms\n",
            "190:\tlearn: 0.3269473\ttotal: 2.67s\tremaining: 126ms\n",
            "191:\tlearn: 0.3265503\ttotal: 2.69s\tremaining: 112ms\n",
            "192:\tlearn: 0.3259281\ttotal: 2.7s\tremaining: 98ms\n",
            "193:\tlearn: 0.3258297\ttotal: 2.72s\tremaining: 84ms\n",
            "194:\tlearn: 0.3256763\ttotal: 2.73s\tremaining: 70ms\n",
            "195:\tlearn: 0.3256303\ttotal: 2.74s\tremaining: 56ms\n",
            "196:\tlearn: 0.3247776\ttotal: 2.76s\tremaining: 42.1ms\n",
            "197:\tlearn: 0.3242565\ttotal: 2.78s\tremaining: 28.1ms\n",
            "198:\tlearn: 0.3241518\ttotal: 2.79s\tremaining: 14ms\n",
            "199:\tlearn: 0.3231141\ttotal: 2.81s\tremaining: 0us\n",
            "train_roc_auc_score: 0.8938600086850297\n",
            "test_roc_auc_score: 0.8228013224850159\n"
          ]
        }
      ]
    },
    {
      "cell_type": "markdown",
      "metadata": {
        "id": "dYCyd9uKWLey"
      },
      "source": [
        "Скор, который получается у CatBoost - **0.8228013224850159**"
      ]
    },
    {
      "cell_type": "markdown",
      "metadata": {
        "id": "dDMXbvNZEEZV"
      },
      "source": [
        "# Предсказания"
      ]
    },
    {
      "cell_type": "code",
      "metadata": {
        "id": "G_P4wFNaEEZW"
      },
      "source": [
        "best_model = gs"
      ],
      "execution_count": 339,
      "outputs": []
    },
    {
      "cell_type": "code",
      "metadata": {
        "id": "57I4t-kbdwuY"
      },
      "source": [
        "X1_test = pd.read_csv('./test.csv')\n",
        "\n",
        "X1_test['TotalSpent'] = np.where(X1_test['TotalSpent'] == ' ', '0', X1_test['TotalSpent'])\n",
        "X1_test['TotalSpent'] = pd.to_numeric(X1_test['TotalSpent'])\n",
        "\n",
        "X1 = pd.concat([X1_test[num_cols], pd.get_dummies(X1_test[cat_cols])], axis=1)\n",
        "X1_test_scaled = scaler.transform(X1)\n",
        "\n",
        "submission = pd.read_csv('./submission.csv')\n",
        "\n",
        "submission['Churn'] = best_model.predict_proba(X1_test_scaled)[:, 1]\n",
        "submission.to_csv('./my_submission.csv', index = False)"
      ],
      "execution_count": 340,
      "outputs": []
    }
  ]
}